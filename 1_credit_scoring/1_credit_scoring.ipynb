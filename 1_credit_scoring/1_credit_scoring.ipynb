{
 "cells": [
  {
   "cell_type": "markdown",
   "metadata": {},
   "source": [
    "## Исследование надёжности заёмщиков\n",
    "\n",
    "Заказчик — кредитный отдел банка. Нужно разобраться, влияет ли семейное положение и количество детей клиента на факт погашения кредита в срок. Входные данные от банка — статистика о платёжеспособности клиентов.\n",
    "\n",
    "Результаты исследования будут учтены при построении модели **кредитного скоринга** — специальной системы, которая оценивает способность потенциального заёмщика вернуть кредит банку."
   ]
  },
  {
   "cell_type": "markdown",
   "metadata": {},
   "source": [
    "### Шаг 1. Откройте файл с данными и изучите общую информацию. "
   ]
  },
  {
   "cell_type": "code",
   "execution_count": 840,
   "metadata": {},
   "outputs": [
    {
     "name": "stdout",
     "output_type": "stream",
     "text": [
      "<class 'pandas.core.frame.DataFrame'>\n",
      "RangeIndex: 21525 entries, 0 to 21524\n",
      "Data columns (total 12 columns):\n",
      "children            21525 non-null int64\n",
      "days_employed       19351 non-null float64\n",
      "dob_years           21525 non-null int64\n",
      "education           21525 non-null object\n",
      "education_id        21525 non-null int64\n",
      "family_status       21525 non-null object\n",
      "family_status_id    21525 non-null int64\n",
      "gender              21525 non-null object\n",
      "income_type         21525 non-null object\n",
      "debt                21525 non-null int64\n",
      "total_income        19351 non-null float64\n",
      "purpose             21525 non-null object\n",
      "dtypes: float64(2), int64(5), object(5)\n",
      "memory usage: 2.0+ MB\n"
     ]
    }
   ],
   "source": [
    "import pandas as pd\n",
    "data = pd.read_csv('/datasets/data.csv')\n",
    "data.info()"
   ]
  },
  {
   "cell_type": "code",
   "execution_count": 841,
   "metadata": {
    "scrolled": true
   },
   "outputs": [
    {
     "data": {
      "text/html": [
       "<div>\n",
       "<style scoped>\n",
       "    .dataframe tbody tr th:only-of-type {\n",
       "        vertical-align: middle;\n",
       "    }\n",
       "\n",
       "    .dataframe tbody tr th {\n",
       "        vertical-align: top;\n",
       "    }\n",
       "\n",
       "    .dataframe thead th {\n",
       "        text-align: right;\n",
       "    }\n",
       "</style>\n",
       "<table border=\"1\" class=\"dataframe\">\n",
       "  <thead>\n",
       "    <tr style=\"text-align: right;\">\n",
       "      <th></th>\n",
       "      <th>children</th>\n",
       "      <th>days_employed</th>\n",
       "      <th>dob_years</th>\n",
       "      <th>education</th>\n",
       "      <th>education_id</th>\n",
       "      <th>family_status</th>\n",
       "      <th>family_status_id</th>\n",
       "      <th>gender</th>\n",
       "      <th>income_type</th>\n",
       "      <th>debt</th>\n",
       "      <th>total_income</th>\n",
       "      <th>purpose</th>\n",
       "    </tr>\n",
       "  </thead>\n",
       "  <tbody>\n",
       "    <tr>\n",
       "      <td>0</td>\n",
       "      <td>1</td>\n",
       "      <td>-8437.673028</td>\n",
       "      <td>42</td>\n",
       "      <td>высшее</td>\n",
       "      <td>0</td>\n",
       "      <td>женат / замужем</td>\n",
       "      <td>0</td>\n",
       "      <td>F</td>\n",
       "      <td>сотрудник</td>\n",
       "      <td>0</td>\n",
       "      <td>253875.639453</td>\n",
       "      <td>покупка жилья</td>\n",
       "    </tr>\n",
       "    <tr>\n",
       "      <td>1</td>\n",
       "      <td>1</td>\n",
       "      <td>-4024.803754</td>\n",
       "      <td>36</td>\n",
       "      <td>среднее</td>\n",
       "      <td>1</td>\n",
       "      <td>женат / замужем</td>\n",
       "      <td>0</td>\n",
       "      <td>F</td>\n",
       "      <td>сотрудник</td>\n",
       "      <td>0</td>\n",
       "      <td>112080.014102</td>\n",
       "      <td>приобретение автомобиля</td>\n",
       "    </tr>\n",
       "    <tr>\n",
       "      <td>2</td>\n",
       "      <td>0</td>\n",
       "      <td>-5623.422610</td>\n",
       "      <td>33</td>\n",
       "      <td>Среднее</td>\n",
       "      <td>1</td>\n",
       "      <td>женат / замужем</td>\n",
       "      <td>0</td>\n",
       "      <td>M</td>\n",
       "      <td>сотрудник</td>\n",
       "      <td>0</td>\n",
       "      <td>145885.952297</td>\n",
       "      <td>покупка жилья</td>\n",
       "    </tr>\n",
       "    <tr>\n",
       "      <td>3</td>\n",
       "      <td>3</td>\n",
       "      <td>-4124.747207</td>\n",
       "      <td>32</td>\n",
       "      <td>среднее</td>\n",
       "      <td>1</td>\n",
       "      <td>женат / замужем</td>\n",
       "      <td>0</td>\n",
       "      <td>M</td>\n",
       "      <td>сотрудник</td>\n",
       "      <td>0</td>\n",
       "      <td>267628.550329</td>\n",
       "      <td>дополнительное образование</td>\n",
       "    </tr>\n",
       "    <tr>\n",
       "      <td>4</td>\n",
       "      <td>0</td>\n",
       "      <td>340266.072047</td>\n",
       "      <td>53</td>\n",
       "      <td>среднее</td>\n",
       "      <td>1</td>\n",
       "      <td>гражданский брак</td>\n",
       "      <td>1</td>\n",
       "      <td>F</td>\n",
       "      <td>пенсионер</td>\n",
       "      <td>0</td>\n",
       "      <td>158616.077870</td>\n",
       "      <td>сыграть свадьбу</td>\n",
       "    </tr>\n",
       "    <tr>\n",
       "      <td>5</td>\n",
       "      <td>0</td>\n",
       "      <td>-926.185831</td>\n",
       "      <td>27</td>\n",
       "      <td>высшее</td>\n",
       "      <td>0</td>\n",
       "      <td>гражданский брак</td>\n",
       "      <td>1</td>\n",
       "      <td>M</td>\n",
       "      <td>компаньон</td>\n",
       "      <td>0</td>\n",
       "      <td>255763.565419</td>\n",
       "      <td>покупка жилья</td>\n",
       "    </tr>\n",
       "    <tr>\n",
       "      <td>6</td>\n",
       "      <td>0</td>\n",
       "      <td>-2879.202052</td>\n",
       "      <td>43</td>\n",
       "      <td>высшее</td>\n",
       "      <td>0</td>\n",
       "      <td>женат / замужем</td>\n",
       "      <td>0</td>\n",
       "      <td>F</td>\n",
       "      <td>компаньон</td>\n",
       "      <td>0</td>\n",
       "      <td>240525.971920</td>\n",
       "      <td>операции с жильем</td>\n",
       "    </tr>\n",
       "    <tr>\n",
       "      <td>7</td>\n",
       "      <td>0</td>\n",
       "      <td>-152.779569</td>\n",
       "      <td>50</td>\n",
       "      <td>СРЕДНЕЕ</td>\n",
       "      <td>1</td>\n",
       "      <td>женат / замужем</td>\n",
       "      <td>0</td>\n",
       "      <td>M</td>\n",
       "      <td>сотрудник</td>\n",
       "      <td>0</td>\n",
       "      <td>135823.934197</td>\n",
       "      <td>образование</td>\n",
       "    </tr>\n",
       "    <tr>\n",
       "      <td>8</td>\n",
       "      <td>2</td>\n",
       "      <td>-6929.865299</td>\n",
       "      <td>35</td>\n",
       "      <td>ВЫСШЕЕ</td>\n",
       "      <td>0</td>\n",
       "      <td>гражданский брак</td>\n",
       "      <td>1</td>\n",
       "      <td>F</td>\n",
       "      <td>сотрудник</td>\n",
       "      <td>0</td>\n",
       "      <td>95856.832424</td>\n",
       "      <td>на проведение свадьбы</td>\n",
       "    </tr>\n",
       "    <tr>\n",
       "      <td>9</td>\n",
       "      <td>0</td>\n",
       "      <td>-2188.756445</td>\n",
       "      <td>41</td>\n",
       "      <td>среднее</td>\n",
       "      <td>1</td>\n",
       "      <td>женат / замужем</td>\n",
       "      <td>0</td>\n",
       "      <td>M</td>\n",
       "      <td>сотрудник</td>\n",
       "      <td>0</td>\n",
       "      <td>144425.938277</td>\n",
       "      <td>покупка жилья для семьи</td>\n",
       "    </tr>\n",
       "    <tr>\n",
       "      <td>10</td>\n",
       "      <td>2</td>\n",
       "      <td>-4171.483647</td>\n",
       "      <td>36</td>\n",
       "      <td>высшее</td>\n",
       "      <td>0</td>\n",
       "      <td>женат / замужем</td>\n",
       "      <td>0</td>\n",
       "      <td>M</td>\n",
       "      <td>компаньон</td>\n",
       "      <td>0</td>\n",
       "      <td>113943.491460</td>\n",
       "      <td>покупка недвижимости</td>\n",
       "    </tr>\n",
       "    <tr>\n",
       "      <td>11</td>\n",
       "      <td>0</td>\n",
       "      <td>-792.701887</td>\n",
       "      <td>40</td>\n",
       "      <td>среднее</td>\n",
       "      <td>1</td>\n",
       "      <td>женат / замужем</td>\n",
       "      <td>0</td>\n",
       "      <td>F</td>\n",
       "      <td>сотрудник</td>\n",
       "      <td>0</td>\n",
       "      <td>77069.234271</td>\n",
       "      <td>покупка коммерческой недвижимости</td>\n",
       "    </tr>\n",
       "    <tr>\n",
       "      <td>12</td>\n",
       "      <td>0</td>\n",
       "      <td>NaN</td>\n",
       "      <td>65</td>\n",
       "      <td>среднее</td>\n",
       "      <td>1</td>\n",
       "      <td>гражданский брак</td>\n",
       "      <td>1</td>\n",
       "      <td>M</td>\n",
       "      <td>пенсионер</td>\n",
       "      <td>0</td>\n",
       "      <td>NaN</td>\n",
       "      <td>сыграть свадьбу</td>\n",
       "    </tr>\n",
       "    <tr>\n",
       "      <td>13</td>\n",
       "      <td>0</td>\n",
       "      <td>-1846.641941</td>\n",
       "      <td>54</td>\n",
       "      <td>неоконченное высшее</td>\n",
       "      <td>2</td>\n",
       "      <td>женат / замужем</td>\n",
       "      <td>0</td>\n",
       "      <td>F</td>\n",
       "      <td>сотрудник</td>\n",
       "      <td>0</td>\n",
       "      <td>130458.228857</td>\n",
       "      <td>приобретение автомобиля</td>\n",
       "    </tr>\n",
       "    <tr>\n",
       "      <td>14</td>\n",
       "      <td>0</td>\n",
       "      <td>-1844.956182</td>\n",
       "      <td>56</td>\n",
       "      <td>высшее</td>\n",
       "      <td>0</td>\n",
       "      <td>гражданский брак</td>\n",
       "      <td>1</td>\n",
       "      <td>F</td>\n",
       "      <td>компаньон</td>\n",
       "      <td>1</td>\n",
       "      <td>165127.911772</td>\n",
       "      <td>покупка жилой недвижимости</td>\n",
       "    </tr>\n",
       "  </tbody>\n",
       "</table>\n",
       "</div>"
      ],
      "text/plain": [
       "    children  days_employed  dob_years            education  education_id  \\\n",
       "0          1   -8437.673028         42               высшее             0   \n",
       "1          1   -4024.803754         36              среднее             1   \n",
       "2          0   -5623.422610         33              Среднее             1   \n",
       "3          3   -4124.747207         32              среднее             1   \n",
       "4          0  340266.072047         53              среднее             1   \n",
       "5          0    -926.185831         27               высшее             0   \n",
       "6          0   -2879.202052         43               высшее             0   \n",
       "7          0    -152.779569         50              СРЕДНЕЕ             1   \n",
       "8          2   -6929.865299         35               ВЫСШЕЕ             0   \n",
       "9          0   -2188.756445         41              среднее             1   \n",
       "10         2   -4171.483647         36               высшее             0   \n",
       "11         0    -792.701887         40              среднее             1   \n",
       "12         0            NaN         65              среднее             1   \n",
       "13         0   -1846.641941         54  неоконченное высшее             2   \n",
       "14         0   -1844.956182         56               высшее             0   \n",
       "\n",
       "       family_status  family_status_id gender income_type  debt  \\\n",
       "0    женат / замужем                 0      F   сотрудник     0   \n",
       "1    женат / замужем                 0      F   сотрудник     0   \n",
       "2    женат / замужем                 0      M   сотрудник     0   \n",
       "3    женат / замужем                 0      M   сотрудник     0   \n",
       "4   гражданский брак                 1      F   пенсионер     0   \n",
       "5   гражданский брак                 1      M   компаньон     0   \n",
       "6    женат / замужем                 0      F   компаньон     0   \n",
       "7    женат / замужем                 0      M   сотрудник     0   \n",
       "8   гражданский брак                 1      F   сотрудник     0   \n",
       "9    женат / замужем                 0      M   сотрудник     0   \n",
       "10   женат / замужем                 0      M   компаньон     0   \n",
       "11   женат / замужем                 0      F   сотрудник     0   \n",
       "12  гражданский брак                 1      M   пенсионер     0   \n",
       "13   женат / замужем                 0      F   сотрудник     0   \n",
       "14  гражданский брак                 1      F   компаньон     1   \n",
       "\n",
       "     total_income                            purpose  \n",
       "0   253875.639453                      покупка жилья  \n",
       "1   112080.014102            приобретение автомобиля  \n",
       "2   145885.952297                      покупка жилья  \n",
       "3   267628.550329         дополнительное образование  \n",
       "4   158616.077870                    сыграть свадьбу  \n",
       "5   255763.565419                      покупка жилья  \n",
       "6   240525.971920                  операции с жильем  \n",
       "7   135823.934197                        образование  \n",
       "8    95856.832424              на проведение свадьбы  \n",
       "9   144425.938277            покупка жилья для семьи  \n",
       "10  113943.491460               покупка недвижимости  \n",
       "11   77069.234271  покупка коммерческой недвижимости  \n",
       "12            NaN                    сыграть свадьбу  \n",
       "13  130458.228857            приобретение автомобиля  \n",
       "14  165127.911772         покупка жилой недвижимости  "
      ]
     },
     "execution_count": 841,
     "metadata": {},
     "output_type": "execute_result"
    }
   ],
   "source": [
    "#Выведем первые и последние 15 записей\n",
    "data.head(15)"
   ]
  },
  {
   "cell_type": "code",
   "execution_count": 893,
   "metadata": {
    "scrolled": true
   },
   "outputs": [
    {
     "data": {
      "text/html": [
       "<div>\n",
       "<style scoped>\n",
       "    .dataframe tbody tr th:only-of-type {\n",
       "        vertical-align: middle;\n",
       "    }\n",
       "\n",
       "    .dataframe tbody tr th {\n",
       "        vertical-align: top;\n",
       "    }\n",
       "\n",
       "    .dataframe thead th {\n",
       "        text-align: right;\n",
       "    }\n",
       "</style>\n",
       "<table border=\"1\" class=\"dataframe\">\n",
       "  <thead>\n",
       "    <tr style=\"text-align: right;\">\n",
       "      <th></th>\n",
       "      <th>children</th>\n",
       "      <th>days_employed</th>\n",
       "      <th>dob_years</th>\n",
       "      <th>education</th>\n",
       "      <th>education_id</th>\n",
       "      <th>family_status</th>\n",
       "      <th>family_status_id</th>\n",
       "      <th>gender</th>\n",
       "      <th>income_type</th>\n",
       "      <th>debt</th>\n",
       "      <th>total_income</th>\n",
       "      <th>purpose</th>\n",
       "      <th>purpose_type</th>\n",
       "      <th>children_type</th>\n",
       "      <th>total_income_type</th>\n",
       "      <th>type_family_status</th>\n",
       "    </tr>\n",
       "  </thead>\n",
       "  <tbody>\n",
       "    <tr>\n",
       "      <td>21510</td>\n",
       "      <td>2</td>\n",
       "      <td>NaN</td>\n",
       "      <td>28</td>\n",
       "      <td>среднее</td>\n",
       "      <td>1</td>\n",
       "      <td>женат / замужем</td>\n",
       "      <td>0</td>\n",
       "      <td>F</td>\n",
       "      <td>сотрудник</td>\n",
       "      <td>0</td>\n",
       "      <td>142594</td>\n",
       "      <td>приобретение автомобиля</td>\n",
       "      <td>автомобиль</td>\n",
       "      <td>есть дети</td>\n",
       "      <td>доход выше среднего</td>\n",
       "      <td>есть семья</td>\n",
       "    </tr>\n",
       "    <tr>\n",
       "      <td>21511</td>\n",
       "      <td>0</td>\n",
       "      <td>-612.569129</td>\n",
       "      <td>29</td>\n",
       "      <td>высшее</td>\n",
       "      <td>0</td>\n",
       "      <td>гражданский брак</td>\n",
       "      <td>1</td>\n",
       "      <td>F</td>\n",
       "      <td>сотрудник</td>\n",
       "      <td>1</td>\n",
       "      <td>140068</td>\n",
       "      <td>покупка жилья для сдачи</td>\n",
       "      <td>жилье</td>\n",
       "      <td>без детей</td>\n",
       "      <td>средний доход</td>\n",
       "      <td>есть семья</td>\n",
       "    </tr>\n",
       "    <tr>\n",
       "      <td>21512</td>\n",
       "      <td>0</td>\n",
       "      <td>-165.377752</td>\n",
       "      <td>26</td>\n",
       "      <td>высшее</td>\n",
       "      <td>0</td>\n",
       "      <td>Не женат / не замужем</td>\n",
       "      <td>4</td>\n",
       "      <td>M</td>\n",
       "      <td>компаньон</td>\n",
       "      <td>0</td>\n",
       "      <td>147301</td>\n",
       "      <td>получение дополнительного образования</td>\n",
       "      <td>образование</td>\n",
       "      <td>без детей</td>\n",
       "      <td>доход выше среднего</td>\n",
       "      <td>без семьи</td>\n",
       "    </tr>\n",
       "    <tr>\n",
       "      <td>21513</td>\n",
       "      <td>0</td>\n",
       "      <td>-1166.216789</td>\n",
       "      <td>35</td>\n",
       "      <td>среднее</td>\n",
       "      <td>1</td>\n",
       "      <td>женат / замужем</td>\n",
       "      <td>0</td>\n",
       "      <td>F</td>\n",
       "      <td>сотрудник</td>\n",
       "      <td>0</td>\n",
       "      <td>250986</td>\n",
       "      <td>покупка жилья</td>\n",
       "      <td>жилье</td>\n",
       "      <td>без детей</td>\n",
       "      <td>высокий доход</td>\n",
       "      <td>есть семья</td>\n",
       "    </tr>\n",
       "    <tr>\n",
       "      <td>21514</td>\n",
       "      <td>0</td>\n",
       "      <td>-280.469996</td>\n",
       "      <td>27</td>\n",
       "      <td>неоконченное высшее</td>\n",
       "      <td>2</td>\n",
       "      <td>Не женат / не замужем</td>\n",
       "      <td>4</td>\n",
       "      <td>M</td>\n",
       "      <td>компаньон</td>\n",
       "      <td>0</td>\n",
       "      <td>355988</td>\n",
       "      <td>строительство недвижимости</td>\n",
       "      <td>недвижимость</td>\n",
       "      <td>без детей</td>\n",
       "      <td>высокий доход</td>\n",
       "      <td>без семьи</td>\n",
       "    </tr>\n",
       "    <tr>\n",
       "      <td>21515</td>\n",
       "      <td>1</td>\n",
       "      <td>-467.685130</td>\n",
       "      <td>28</td>\n",
       "      <td>среднее</td>\n",
       "      <td>1</td>\n",
       "      <td>женат / замужем</td>\n",
       "      <td>0</td>\n",
       "      <td>F</td>\n",
       "      <td>сотрудник</td>\n",
       "      <td>1</td>\n",
       "      <td>109486</td>\n",
       "      <td>заняться образованием</td>\n",
       "      <td>образование</td>\n",
       "      <td>есть дети</td>\n",
       "      <td>средний доход</td>\n",
       "      <td>есть семья</td>\n",
       "    </tr>\n",
       "    <tr>\n",
       "      <td>21516</td>\n",
       "      <td>0</td>\n",
       "      <td>-914.391429</td>\n",
       "      <td>42</td>\n",
       "      <td>высшее</td>\n",
       "      <td>0</td>\n",
       "      <td>женат / замужем</td>\n",
       "      <td>0</td>\n",
       "      <td>F</td>\n",
       "      <td>компаньон</td>\n",
       "      <td>0</td>\n",
       "      <td>322807</td>\n",
       "      <td>покупка своего жилья</td>\n",
       "      <td>жилье</td>\n",
       "      <td>без детей</td>\n",
       "      <td>высокий доход</td>\n",
       "      <td>есть семья</td>\n",
       "    </tr>\n",
       "    <tr>\n",
       "      <td>21517</td>\n",
       "      <td>0</td>\n",
       "      <td>-404.679034</td>\n",
       "      <td>42</td>\n",
       "      <td>высшее</td>\n",
       "      <td>0</td>\n",
       "      <td>гражданский брак</td>\n",
       "      <td>1</td>\n",
       "      <td>F</td>\n",
       "      <td>компаньон</td>\n",
       "      <td>0</td>\n",
       "      <td>178059</td>\n",
       "      <td>на покупку своего автомобиля</td>\n",
       "      <td>автомобиль</td>\n",
       "      <td>без детей</td>\n",
       "      <td>доход выше среднего</td>\n",
       "      <td>есть семья</td>\n",
       "    </tr>\n",
       "    <tr>\n",
       "      <td>21518</td>\n",
       "      <td>0</td>\n",
       "      <td>373995.710838</td>\n",
       "      <td>59</td>\n",
       "      <td>СРЕДНЕЕ</td>\n",
       "      <td>1</td>\n",
       "      <td>женат / замужем</td>\n",
       "      <td>0</td>\n",
       "      <td>F</td>\n",
       "      <td>пенсионер</td>\n",
       "      <td>0</td>\n",
       "      <td>153864</td>\n",
       "      <td>сделка с автомобилем</td>\n",
       "      <td>автомобиль</td>\n",
       "      <td>без детей</td>\n",
       "      <td>доход выше среднего</td>\n",
       "      <td>есть семья</td>\n",
       "    </tr>\n",
       "    <tr>\n",
       "      <td>21519</td>\n",
       "      <td>1</td>\n",
       "      <td>-2351.431934</td>\n",
       "      <td>37</td>\n",
       "      <td>ученая степень</td>\n",
       "      <td>4</td>\n",
       "      <td>в разводе</td>\n",
       "      <td>3</td>\n",
       "      <td>M</td>\n",
       "      <td>сотрудник</td>\n",
       "      <td>0</td>\n",
       "      <td>115949</td>\n",
       "      <td>покупка коммерческой недвижимости</td>\n",
       "      <td>недвижимость</td>\n",
       "      <td>есть дети</td>\n",
       "      <td>средний доход</td>\n",
       "      <td>без семьи</td>\n",
       "    </tr>\n",
       "    <tr>\n",
       "      <td>21520</td>\n",
       "      <td>1</td>\n",
       "      <td>-4529.316663</td>\n",
       "      <td>43</td>\n",
       "      <td>среднее</td>\n",
       "      <td>1</td>\n",
       "      <td>гражданский брак</td>\n",
       "      <td>1</td>\n",
       "      <td>F</td>\n",
       "      <td>компаньон</td>\n",
       "      <td>0</td>\n",
       "      <td>224791</td>\n",
       "      <td>операции с жильем</td>\n",
       "      <td>жилье</td>\n",
       "      <td>есть дети</td>\n",
       "      <td>высокий доход</td>\n",
       "      <td>есть семья</td>\n",
       "    </tr>\n",
       "    <tr>\n",
       "      <td>21521</td>\n",
       "      <td>0</td>\n",
       "      <td>343937.404131</td>\n",
       "      <td>67</td>\n",
       "      <td>среднее</td>\n",
       "      <td>1</td>\n",
       "      <td>женат / замужем</td>\n",
       "      <td>0</td>\n",
       "      <td>F</td>\n",
       "      <td>пенсионер</td>\n",
       "      <td>0</td>\n",
       "      <td>155999</td>\n",
       "      <td>сделка с автомобилем</td>\n",
       "      <td>автомобиль</td>\n",
       "      <td>без детей</td>\n",
       "      <td>доход выше среднего</td>\n",
       "      <td>есть семья</td>\n",
       "    </tr>\n",
       "    <tr>\n",
       "      <td>21522</td>\n",
       "      <td>1</td>\n",
       "      <td>-2113.346888</td>\n",
       "      <td>38</td>\n",
       "      <td>среднее</td>\n",
       "      <td>1</td>\n",
       "      <td>гражданский брак</td>\n",
       "      <td>1</td>\n",
       "      <td>M</td>\n",
       "      <td>сотрудник</td>\n",
       "      <td>1</td>\n",
       "      <td>89672</td>\n",
       "      <td>недвижимость</td>\n",
       "      <td>недвижимость</td>\n",
       "      <td>есть дети</td>\n",
       "      <td>низкий доход</td>\n",
       "      <td>есть семья</td>\n",
       "    </tr>\n",
       "    <tr>\n",
       "      <td>21523</td>\n",
       "      <td>3</td>\n",
       "      <td>-3112.481705</td>\n",
       "      <td>38</td>\n",
       "      <td>среднее</td>\n",
       "      <td>1</td>\n",
       "      <td>женат / замужем</td>\n",
       "      <td>0</td>\n",
       "      <td>M</td>\n",
       "      <td>сотрудник</td>\n",
       "      <td>1</td>\n",
       "      <td>244093</td>\n",
       "      <td>на покупку своего автомобиля</td>\n",
       "      <td>автомобиль</td>\n",
       "      <td>многодетный</td>\n",
       "      <td>высокий доход</td>\n",
       "      <td>есть семья</td>\n",
       "    </tr>\n",
       "    <tr>\n",
       "      <td>21524</td>\n",
       "      <td>2</td>\n",
       "      <td>-1984.507589</td>\n",
       "      <td>40</td>\n",
       "      <td>среднее</td>\n",
       "      <td>1</td>\n",
       "      <td>женат / замужем</td>\n",
       "      <td>0</td>\n",
       "      <td>F</td>\n",
       "      <td>сотрудник</td>\n",
       "      <td>0</td>\n",
       "      <td>82047</td>\n",
       "      <td>на покупку автомобиля</td>\n",
       "      <td>автомобиль</td>\n",
       "      <td>есть дети</td>\n",
       "      <td>низкий доход</td>\n",
       "      <td>есть семья</td>\n",
       "    </tr>\n",
       "  </tbody>\n",
       "</table>\n",
       "</div>"
      ],
      "text/plain": [
       "       children  days_employed  dob_years            education  education_id  \\\n",
       "21510         2            NaN         28              среднее             1   \n",
       "21511         0    -612.569129         29               высшее             0   \n",
       "21512         0    -165.377752         26               высшее             0   \n",
       "21513         0   -1166.216789         35              среднее             1   \n",
       "21514         0    -280.469996         27  неоконченное высшее             2   \n",
       "21515         1    -467.685130         28              среднее             1   \n",
       "21516         0    -914.391429         42               высшее             0   \n",
       "21517         0    -404.679034         42               высшее             0   \n",
       "21518         0  373995.710838         59              СРЕДНЕЕ             1   \n",
       "21519         1   -2351.431934         37       ученая степень             4   \n",
       "21520         1   -4529.316663         43              среднее             1   \n",
       "21521         0  343937.404131         67              среднее             1   \n",
       "21522         1   -2113.346888         38              среднее             1   \n",
       "21523         3   -3112.481705         38              среднее             1   \n",
       "21524         2   -1984.507589         40              среднее             1   \n",
       "\n",
       "               family_status  family_status_id gender income_type  debt  \\\n",
       "21510        женат / замужем                 0      F   сотрудник     0   \n",
       "21511       гражданский брак                 1      F   сотрудник     1   \n",
       "21512  Не женат / не замужем                 4      M   компаньон     0   \n",
       "21513        женат / замужем                 0      F   сотрудник     0   \n",
       "21514  Не женат / не замужем                 4      M   компаньон     0   \n",
       "21515        женат / замужем                 0      F   сотрудник     1   \n",
       "21516        женат / замужем                 0      F   компаньон     0   \n",
       "21517       гражданский брак                 1      F   компаньон     0   \n",
       "21518        женат / замужем                 0      F   пенсионер     0   \n",
       "21519              в разводе                 3      M   сотрудник     0   \n",
       "21520       гражданский брак                 1      F   компаньон     0   \n",
       "21521        женат / замужем                 0      F   пенсионер     0   \n",
       "21522       гражданский брак                 1      M   сотрудник     1   \n",
       "21523        женат / замужем                 0      M   сотрудник     1   \n",
       "21524        женат / замужем                 0      F   сотрудник     0   \n",
       "\n",
       "       total_income                                purpose  purpose_type  \\\n",
       "21510        142594                приобретение автомобиля    автомобиль   \n",
       "21511        140068                покупка жилья для сдачи         жилье   \n",
       "21512        147301  получение дополнительного образования   образование   \n",
       "21513        250986                          покупка жилья         жилье   \n",
       "21514        355988             строительство недвижимости  недвижимость   \n",
       "21515        109486                  заняться образованием   образование   \n",
       "21516        322807                   покупка своего жилья         жилье   \n",
       "21517        178059           на покупку своего автомобиля    автомобиль   \n",
       "21518        153864                   сделка с автомобилем    автомобиль   \n",
       "21519        115949      покупка коммерческой недвижимости  недвижимость   \n",
       "21520        224791                      операции с жильем         жилье   \n",
       "21521        155999                   сделка с автомобилем    автомобиль   \n",
       "21522         89672                           недвижимость  недвижимость   \n",
       "21523        244093           на покупку своего автомобиля    автомобиль   \n",
       "21524         82047                  на покупку автомобиля    автомобиль   \n",
       "\n",
       "      children_type    total_income_type type_family_status  \n",
       "21510     есть дети  доход выше среднего         есть семья  \n",
       "21511     без детей        средний доход         есть семья  \n",
       "21512     без детей  доход выше среднего          без семьи  \n",
       "21513     без детей        высокий доход         есть семья  \n",
       "21514     без детей        высокий доход          без семьи  \n",
       "21515     есть дети        средний доход         есть семья  \n",
       "21516     без детей        высокий доход         есть семья  \n",
       "21517     без детей  доход выше среднего         есть семья  \n",
       "21518     без детей  доход выше среднего         есть семья  \n",
       "21519     есть дети        средний доход          без семьи  \n",
       "21520     есть дети        высокий доход         есть семья  \n",
       "21521     без детей  доход выше среднего         есть семья  \n",
       "21522     есть дети         низкий доход         есть семья  \n",
       "21523   многодетный        высокий доход         есть семья  \n",
       "21524     есть дети         низкий доход         есть семья  "
      ]
     },
     "execution_count": 893,
     "metadata": {},
     "output_type": "execute_result"
    }
   ],
   "source": [
    "data.tail(15)"
   ]
  },
  {
   "cell_type": "code",
   "execution_count": 843,
   "metadata": {},
   "outputs": [
    {
     "data": {
      "text/plain": [
       "54"
      ]
     },
     "execution_count": 843,
     "metadata": {},
     "output_type": "execute_result"
    }
   ],
   "source": [
    "#Посмотрим наличие дубликатов и пропусков\n",
    "data.duplicated().sum()"
   ]
  },
  {
   "cell_type": "code",
   "execution_count": 844,
   "metadata": {},
   "outputs": [
    {
     "data": {
      "text/plain": [
       "children               0\n",
       "days_employed       2174\n",
       "dob_years              0\n",
       "education              0\n",
       "education_id           0\n",
       "family_status          0\n",
       "family_status_id       0\n",
       "gender                 0\n",
       "income_type            0\n",
       "debt                   0\n",
       "total_income        2174\n",
       "purpose                0\n",
       "dtype: int64"
      ]
     },
     "execution_count": 844,
     "metadata": {},
     "output_type": "execute_result"
    }
   ],
   "source": [
    "data.isna().sum()"
   ]
  },
  {
   "cell_type": "code",
   "execution_count": 845,
   "metadata": {},
   "outputs": [],
   "source": [
    "#Просмотрим по отдельности столбцы, чтобы найти какие-либо особенности"
   ]
  },
  {
   "cell_type": "code",
   "execution_count": 846,
   "metadata": {},
   "outputs": [
    {
     "name": "stdout",
     "output_type": "stream",
     "text": [
      "[ 1  0  3  2 -1  4 20  5]\n"
     ]
    }
   ],
   "source": [
    "unique_children = data['children'].unique()\n",
    "print(unique_children)"
   ]
  },
  {
   "cell_type": "code",
   "execution_count": 847,
   "metadata": {},
   "outputs": [
    {
     "name": "stdout",
     "output_type": "stream",
     "text": [
      "[-8437.67302776 -4024.80375385 -5623.42261023 ... -2113.3468877\n",
      " -3112.4817052  -1984.50758853]\n"
     ]
    }
   ],
   "source": [
    "unique_days_employed = data['days_employed'].unique()\n",
    "print(unique_days_employed)"
   ]
  },
  {
   "cell_type": "code",
   "execution_count": 848,
   "metadata": {},
   "outputs": [],
   "source": [
    "#в 'days_employed' есть отрицательные значения, а положительные значения очень большие для количества дней"
   ]
  },
  {
   "cell_type": "code",
   "execution_count": 849,
   "metadata": {},
   "outputs": [
    {
     "data": {
      "text/plain": [
       "15906"
      ]
     },
     "execution_count": 849,
     "metadata": {},
     "output_type": "execute_result"
    }
   ],
   "source": [
    "data[data['days_employed'] < 0]['days_employed'].count()"
   ]
  },
  {
   "cell_type": "code",
   "execution_count": 850,
   "metadata": {},
   "outputs": [
    {
     "name": "stdout",
     "output_type": "stream",
     "text": [
      "[42 36 33 32 53 27 43 50 35 41 40 65 54 56 26 48 24 21 57 67 28 63 62 47\n",
      " 34 68 25 31 30 20 49 37 45 61 64 44 52 46 23 38 39 51  0 59 29 60 55 58\n",
      " 71 22 73 66 69 19 72 70 74 75]\n"
     ]
    }
   ],
   "source": [
    "unique_dob_years = data['dob_years'].unique()\n",
    "print(unique_dob_years)"
   ]
  },
  {
   "cell_type": "code",
   "execution_count": 851,
   "metadata": {},
   "outputs": [],
   "source": [
    "#кредиты выдают с 18 лет, а у нас есть вообще нулевые значения в столбце возраст клиента в годах."
   ]
  },
  {
   "cell_type": "code",
   "execution_count": 852,
   "metadata": {},
   "outputs": [
    {
     "name": "stdout",
     "output_type": "stream",
     "text": [
      "['F' 'M' 'XNA']\n"
     ]
    }
   ],
   "source": [
    "unique_gender = data['gender'].unique()\n",
    "print(unique_gender)"
   ]
  },
  {
   "cell_type": "code",
   "execution_count": 853,
   "metadata": {},
   "outputs": [],
   "source": [
    "#есть неизвестное значение пола человека"
   ]
  },
  {
   "cell_type": "code",
   "execution_count": 854,
   "metadata": {},
   "outputs": [
    {
     "name": "stdout",
     "output_type": "stream",
     "text": [
      "['женат / замужем' 'гражданский брак' 'вдовец / вдова' 'в разводе'\n",
      " 'Не женат / не замужем']\n"
     ]
    }
   ],
   "source": [
    "unique_family_status = data['family_status'].unique()\n",
    "print(unique_family_status)"
   ]
  },
  {
   "cell_type": "code",
   "execution_count": 855,
   "metadata": {},
   "outputs": [
    {
     "name": "stdout",
     "output_type": "stream",
     "text": [
      "['высшее' 'среднее' 'Среднее' 'СРЕДНЕЕ' 'ВЫСШЕЕ' 'неоконченное высшее'\n",
      " 'начальное' 'Высшее' 'НЕОКОНЧЕННОЕ ВЫСШЕЕ' 'Неоконченное высшее'\n",
      " 'НАЧАЛЬНОЕ' 'Начальное' 'Ученая степень' 'УЧЕНАЯ СТЕПЕНЬ'\n",
      " 'ученая степень']\n"
     ]
    }
   ],
   "source": [
    "unique_education = data['education'].unique()\n",
    "print(unique_education)"
   ]
  },
  {
   "cell_type": "code",
   "execution_count": 856,
   "metadata": {},
   "outputs": [],
   "source": [
    "#присутствуют различные регистры в значениях у образования"
   ]
  },
  {
   "cell_type": "code",
   "execution_count": 857,
   "metadata": {},
   "outputs": [
    {
     "name": "stdout",
     "output_type": "stream",
     "text": [
      "['сотрудник' 'пенсионер' 'компаньон' 'госслужащий' 'безработный'\n",
      " 'предприниматель' 'студент' 'в декрете']\n"
     ]
    }
   ],
   "source": [
    "unique_income_type = data['income_type'].unique()\n",
    "print(unique_income_type)"
   ]
  },
  {
   "cell_type": "code",
   "execution_count": 858,
   "metadata": {},
   "outputs": [
    {
     "name": "stdout",
     "output_type": "stream",
     "text": [
      "['покупка жилья' 'приобретение автомобиля' 'дополнительное образование'\n",
      " 'сыграть свадьбу' 'операции с жильем' 'образование'\n",
      " 'на проведение свадьбы' 'покупка жилья для семьи' 'покупка недвижимости'\n",
      " 'покупка коммерческой недвижимости' 'покупка жилой недвижимости'\n",
      " 'строительство собственной недвижимости' 'недвижимость'\n",
      " 'строительство недвижимости' 'на покупку подержанного автомобиля'\n",
      " 'на покупку своего автомобиля' 'операции с коммерческой недвижимостью'\n",
      " 'строительство жилой недвижимости' 'жилье'\n",
      " 'операции со своей недвижимостью' 'автомобили' 'заняться образованием'\n",
      " 'сделка с подержанным автомобилем' 'получение образования' 'автомобиль'\n",
      " 'свадьба' 'получение дополнительного образования' 'покупка своего жилья'\n",
      " 'операции с недвижимостью' 'получение высшего образования'\n",
      " 'свой автомобиль' 'сделка с автомобилем' 'профильное образование'\n",
      " 'высшее образование' 'покупка жилья для сдачи' 'на покупку автомобиля'\n",
      " 'ремонт жилью' 'заняться высшим образованием']\n"
     ]
    }
   ],
   "source": [
    "unique_purpose = data['purpose'].unique()\n",
    "print(unique_purpose)"
   ]
  },
  {
   "cell_type": "code",
   "execution_count": 859,
   "metadata": {},
   "outputs": [
    {
     "data": {
      "text/html": [
       "<div>\n",
       "<style scoped>\n",
       "    .dataframe tbody tr th:only-of-type {\n",
       "        vertical-align: middle;\n",
       "    }\n",
       "\n",
       "    .dataframe tbody tr th {\n",
       "        vertical-align: top;\n",
       "    }\n",
       "\n",
       "    .dataframe thead th {\n",
       "        text-align: right;\n",
       "    }\n",
       "</style>\n",
       "<table border=\"1\" class=\"dataframe\">\n",
       "  <thead>\n",
       "    <tr style=\"text-align: right;\">\n",
       "      <th></th>\n",
       "      <th>children</th>\n",
       "      <th>days_employed</th>\n",
       "      <th>dob_years</th>\n",
       "      <th>education</th>\n",
       "      <th>education_id</th>\n",
       "      <th>family_status</th>\n",
       "      <th>family_status_id</th>\n",
       "      <th>gender</th>\n",
       "      <th>income_type</th>\n",
       "      <th>debt</th>\n",
       "      <th>total_income</th>\n",
       "      <th>purpose</th>\n",
       "    </tr>\n",
       "  </thead>\n",
       "  <tbody>\n",
       "  </tbody>\n",
       "</table>\n",
       "</div>"
      ],
      "text/plain": [
       "Empty DataFrame\n",
       "Columns: [children, days_employed, dob_years, education, education_id, family_status, family_status_id, gender, income_type, debt, total_income, purpose]\n",
       "Index: []"
      ]
     },
     "execution_count": 859,
     "metadata": {},
     "output_type": "execute_result"
    }
   ],
   "source": [
    "#проверим есть ли клиенты с уровнем дохода = 0\n",
    "data[data['total_income'] == 0]"
   ]
  },
  {
   "cell_type": "markdown",
   "metadata": {},
   "source": [
    "### Вывод"
   ]
  },
  {
   "cell_type": "markdown",
   "metadata": {},
   "source": [
    "- всего для анализа у нас 21 525 записей\n",
    "- есть 54 дубликата\n",
    "- есть пропуски в столбцах days_employed и total_income. Скорее всего невозможно рассчитать общий доход, если нету данных о стаже. Но столбец total_income нам нужен для анализа и ответов на поставленные вопросы.\n",
    "- в столбце children есть значения \"-1\", скорее всего клиенты не заполнили данные, а также есть значения \"20\", что может быть ошибкой, но точно сказать невозможно.\n",
    "- есть отрицательные значения в столбце days_employed и таких значений очень много, можно воспользоваться функцией приведения значений по модулю . days_employed так же имеет тип float64, но хотелось бы иметь дело с днями, поэтому приведем тип столбца к int. В столбце также есть неправдоподобно большие значения стажа. Однако для анализа нам не важен этот столбец.\n",
    "- есть нулевые значения в столбце dob_years, которые скорее всего появились из-за того, что клиент не указал своих данных. Однако для анализа нам не важен этот столбец.\n",
    "- есть значения в разном регистре в столбце education.\n",
    "- есть неизвестное значение 'XNA' в столбце gender. Однако для анализа нам не важен этот столбец.\n",
    "- столбец purpose содержит разные формулировки одних и тех же целей."
   ]
  },
  {
   "cell_type": "markdown",
   "metadata": {},
   "source": [
    "### Шаг 2. Предобработка данных"
   ]
  },
  {
   "cell_type": "markdown",
   "metadata": {},
   "source": [
    "### Обработка пропусков"
   ]
  },
  {
   "cell_type": "code",
   "execution_count": 860,
   "metadata": {},
   "outputs": [
    {
     "data": {
      "text/plain": [
       "children               0\n",
       "days_employed       2174\n",
       "dob_years              0\n",
       "education              0\n",
       "education_id           0\n",
       "family_status          0\n",
       "family_status_id       0\n",
       "gender                 0\n",
       "income_type            0\n",
       "debt                   0\n",
       "total_income        2174\n",
       "purpose                0\n",
       "dtype: int64"
      ]
     },
     "execution_count": 860,
     "metadata": {},
     "output_type": "execute_result"
    }
   ],
   "source": [
    "#количество пропущенных значений во всех столбцах \n",
    "data.isnull().sum()"
   ]
  },
  {
   "cell_type": "code",
   "execution_count": 861,
   "metadata": {},
   "outputs": [
    {
     "data": {
      "text/plain": [
       "сотрудник          0.508280\n",
       "компаньон          0.233671\n",
       "пенсионер          0.189972\n",
       "госслужащий        0.067617\n",
       "предприниматель    0.000460\n",
       "Name: income_type, dtype: float64"
      ]
     },
     "execution_count": 861,
     "metadata": {},
     "output_type": "execute_result"
    }
   ],
   "source": [
    "#типы занятости с частотой среди пропущенных значений\n",
    "data[data['total_income'].isnull()]['income_type'].value_counts(normalize=True)"
   ]
  },
  {
   "cell_type": "code",
   "execution_count": 862,
   "metadata": {},
   "outputs": [
    {
     "data": {
      "text/plain": [
       "сотрудник          0.516562\n",
       "компаньон          0.236237\n",
       "пенсионер          0.179141\n",
       "госслужащий        0.067782\n",
       "безработный        0.000093\n",
       "предприниматель    0.000093\n",
       "в декрете          0.000046\n",
       "студент            0.000046\n",
       "Name: income_type, dtype: float64"
      ]
     },
     "execution_count": 862,
     "metadata": {},
     "output_type": "execute_result"
    }
   ],
   "source": [
    "#типы занятости с частотой в общем датасете\n",
    "data['income_type'].value_counts(normalize=True)"
   ]
  },
  {
   "cell_type": "code",
   "execution_count": 863,
   "metadata": {},
   "outputs": [],
   "source": [
    "#Теперь видно, что пропущенные данные не зависит от 'income_type'. Сравнение частотностей пропусков по 'income_type' схожа с данными в общем датасете."
   ]
  },
  {
   "cell_type": "code",
   "execution_count": 864,
   "metadata": {},
   "outputs": [],
   "source": [
    "#находим медиану дней стажа для каждого типа занятости методом median()\n",
    "#mediana_days_employed = data.groupby('income_type')['days_employed'].median().to_dict()\n",
    "#mediana_days_employed"
   ]
  },
  {
   "cell_type": "code",
   "execution_count": 865,
   "metadata": {},
   "outputs": [],
   "source": [
    "import numpy as np\n",
    "#заполняем все пустые значения соответствующей медианой по days_employed\n",
    "#def fill_days_employed(row):\n",
    "#    if np.isnan(row['days_employed']) or row['days_employed'] in (np.nan, None):\n",
    "#        return mediana_days_employed[row['income_type']]\n",
    "#    else:\n",
    "#        return row['days_employed']\n",
    "\n",
    "#data['days_employed'] = data.apply(fill_days_employed, axis = 1)"
   ]
  },
  {
   "cell_type": "code",
   "execution_count": 866,
   "metadata": {},
   "outputs": [],
   "source": [
    "#Так как столбец 'days_employed' нам не нужен для анализа и ответа на поставленные вопросы, то мы оставим его в исходном состоянии, но сообщим разработчикам о найденной проблеме"
   ]
  },
  {
   "cell_type": "code",
   "execution_count": 867,
   "metadata": {},
   "outputs": [
    {
     "data": {
      "text/plain": [
       "{'безработный': 131339.7516762103,\n",
       " 'в декрете': 53829.13072905995,\n",
       " 'госслужащий': 150447.9352830068,\n",
       " 'компаньон': 172357.95096577113,\n",
       " 'пенсионер': 118514.48641164352,\n",
       " 'предприниматель': 499163.1449470857,\n",
       " 'сотрудник': 142594.39684740017,\n",
       " 'студент': 98201.62531401133}"
      ]
     },
     "execution_count": 867,
     "metadata": {},
     "output_type": "execute_result"
    }
   ],
   "source": [
    "#находим медиану месячного дохода для каждого типа занятости методом median()\n",
    "mediana_total_income = data.groupby('income_type')['total_income'].median().to_dict()\n",
    "mediana_total_income"
   ]
  },
  {
   "cell_type": "code",
   "execution_count": 868,
   "metadata": {},
   "outputs": [],
   "source": [
    "#заполняем все пустые значения соответствующей медианой по total_income\n",
    "def fill_total_income(row):\n",
    "    if np.isnan(row['total_income']) or row['total_income'] in (np.nan, None):\n",
    "        return mediana_total_income[row['income_type']]\n",
    "    else:\n",
    "        return row['total_income']\n",
    "\n",
    "data['total_income'] = data.apply(fill_total_income, axis = 1)"
   ]
  },
  {
   "cell_type": "code",
   "execution_count": 869,
   "metadata": {},
   "outputs": [],
   "source": [
    "#заменяем значения \"-1\" в столбце 'children'  на \"0\"\n",
    "data['children'] = data['children'].replace(-1, 0)"
   ]
  },
  {
   "cell_type": "code",
   "execution_count": 870,
   "metadata": {},
   "outputs": [
    {
     "data": {
      "text/plain": [
       "0"
      ]
     },
     "execution_count": 870,
     "metadata": {},
     "output_type": "execute_result"
    }
   ],
   "source": [
    "#проверяем количество значений \"-1\" после изменений\n",
    "data[data['children'] == -1].count()[0]"
   ]
  },
  {
   "cell_type": "code",
   "execution_count": 871,
   "metadata": {},
   "outputs": [],
   "source": [
    "#заменяем значения \"20\" в столбце 'children'  на \"2\", предполагая, что корректное значение \"2\", а \"0\" появился в результате ошибки заполнения данных\n",
    "data['children'] = data['children'].replace(20, 2)"
   ]
  },
  {
   "cell_type": "code",
   "execution_count": 872,
   "metadata": {},
   "outputs": [
    {
     "data": {
      "text/plain": [
       "0"
      ]
     },
     "execution_count": 872,
     "metadata": {},
     "output_type": "execute_result"
    }
   ],
   "source": [
    "#проверяем количество значений \"20\" после изменений\n",
    "data[data['children'] == 20].count()[0]"
   ]
  },
  {
   "cell_type": "code",
   "execution_count": 873,
   "metadata": {},
   "outputs": [],
   "source": [
    "#заменяем в столбце 'dob_years'значения \"0\" на средние по каждому типу занятости и округляем чтоб сохранить целочисленный тип \n",
    "data['dob_years'] = data.groupby('income_type')['dob_years'].transform(lambda x: x.replace(0, int(x.mean())))"
   ]
  },
  {
   "cell_type": "code",
   "execution_count": 874,
   "metadata": {},
   "outputs": [
    {
     "data": {
      "text/plain": [
       "0"
      ]
     },
     "execution_count": 874,
     "metadata": {},
     "output_type": "execute_result"
    }
   ],
   "source": [
    "#проверяем количество значений \"0\" после изменений\n",
    "data[data['dob_years'] == 0].count()[0]"
   ]
  },
  {
   "cell_type": "code",
   "execution_count": 875,
   "metadata": {},
   "outputs": [
    {
     "name": "stdout",
     "output_type": "stream",
     "text": [
      "<class 'pandas.core.frame.DataFrame'>\n",
      "RangeIndex: 21525 entries, 0 to 21524\n",
      "Data columns (total 12 columns):\n",
      "children            21525 non-null int64\n",
      "days_employed       19351 non-null float64\n",
      "dob_years           21525 non-null int64\n",
      "education           21525 non-null object\n",
      "education_id        21525 non-null int64\n",
      "family_status       21525 non-null object\n",
      "family_status_id    21525 non-null int64\n",
      "gender              21525 non-null object\n",
      "income_type         21525 non-null object\n",
      "debt                21525 non-null int64\n",
      "total_income        21525 non-null float64\n",
      "purpose             21525 non-null object\n",
      "dtypes: float64(2), int64(5), object(5)\n",
      "memory usage: 2.0+ MB\n"
     ]
    }
   ],
   "source": [
    "data.info()"
   ]
  },
  {
   "cell_type": "markdown",
   "metadata": {},
   "source": [
    "### Вывод"
   ]
  },
  {
   "cell_type": "markdown",
   "metadata": {},
   "source": [
    "Были обнаружены пропуски данных в столбцах 'total_income' и 'days_employed'. Возможно, пропуски появились потому что их просто не заполнили сами клиенты. Скорее всего невозможно рассчитать общий доход, если нету данных о стаже.\n",
    "Пропущенные значения в столбце 'total_income' заполнили, рассчитанным для каждого значения income_type (тип занятости) соответствующе Медианой по доходу согласно типу занятости.\n",
    "Пропущенные значения в столбце 'days_employed' оставили без изменений, так как он нам не нужен для ответа на поставленные вопросы, но необходимо сообщим разработчикам о найденной проблеме.\n",
    "Некорректные значения в столбцах 'children' и 'dob_years' заменены."
   ]
  },
  {
   "cell_type": "markdown",
   "metadata": {},
   "source": [
    "### Замена типа данных"
   ]
  },
  {
   "cell_type": "code",
   "execution_count": 876,
   "metadata": {},
   "outputs": [
    {
     "name": "stdout",
     "output_type": "stream",
     "text": [
      "При изменении типа данных в столбце days_employed возникли ошибки\n",
      "<class 'pandas.core.frame.DataFrame'>\n",
      "RangeIndex: 21525 entries, 0 to 21524\n",
      "Data columns (total 12 columns):\n",
      "children            21525 non-null int64\n",
      "days_employed       19351 non-null float64\n",
      "dob_years           21525 non-null int64\n",
      "education           21525 non-null object\n",
      "education_id        21525 non-null int64\n",
      "family_status       21525 non-null object\n",
      "family_status_id    21525 non-null int64\n",
      "gender              21525 non-null object\n",
      "income_type         21525 non-null object\n",
      "debt                21525 non-null int64\n",
      "total_income        21525 non-null int64\n",
      "purpose             21525 non-null object\n",
      "dtypes: float64(1), int64(6), object(5)\n",
      "memory usage: 2.0+ MB\n"
     ]
    }
   ],
   "source": [
    "#в колличественном выражении для 'days_employed', дробная часть не значительна и ей можно принебречь, поэтому проведем замену типа данных для 'days_employed' на integer с применением функции модуля к значениям\n",
    "try:\n",
    "    data['days_employed'] = data['days_employed'].astype('int').apply(abs)\n",
    "except: \n",
    "    print('При изменении типа данных в столбце days_employed возникли ошибки')\n",
    "\n",
    "#проведем замену типа данных для 'total_income' на integer\n",
    "try:\n",
    "    data['total_income'] = data['total_income'].astype('int')\n",
    "except: \n",
    "    print('При изменении типа данных в столбце total_income возникли ошибки')\n",
    "    \n",
    "#Проверим типы данных методом info()\n",
    "data.info()"
   ]
  },
  {
   "cell_type": "markdown",
   "metadata": {},
   "source": [
    "### Вывод"
   ]
  },
  {
   "cell_type": "markdown",
   "metadata": {},
   "source": [
    "При замене типа данных не произойдет какого-либо существенного искажения данных, которое бы повлияло на итоговый анализ. Дополнительно избавились от отрицательных значений.\n",
    "Использовали метод astype, а не to_numeric, т.к. он служит для конвертации строк и приводит их к числам с плавающей точкой.\n",
    "Использовалась конструкция try-except для выявления ошибок при преобразовании типа."
   ]
  },
  {
   "cell_type": "markdown",
   "metadata": {},
   "source": [
    "### Обработка дубликатов"
   ]
  },
  {
   "cell_type": "code",
   "execution_count": 877,
   "metadata": {},
   "outputs": [
    {
     "data": {
      "text/plain": [
       "54"
      ]
     },
     "execution_count": 877,
     "metadata": {},
     "output_type": "execute_result"
    }
   ],
   "source": [
    "#найдем количество дубликатов\n",
    "data.duplicated().sum()"
   ]
  },
  {
   "cell_type": "code",
   "execution_count": 878,
   "metadata": {},
   "outputs": [],
   "source": [
    "#удаляем дубликаты \n",
    "data = data.drop_duplicates()"
   ]
  },
  {
   "cell_type": "code",
   "execution_count": 879,
   "metadata": {},
   "outputs": [
    {
     "name": "stdout",
     "output_type": "stream",
     "text": [
      "0\n"
     ]
    }
   ],
   "source": [
    "#проверим количество дубликатов после обработки\n",
    "print(data.duplicated().sum())"
   ]
  },
  {
   "cell_type": "markdown",
   "metadata": {},
   "source": [
    "### Вывод"
   ]
  },
  {
   "cell_type": "markdown",
   "metadata": {},
   "source": [
    "Проверили данные на наличие дубликатов и избавились от них, чтобы они не повлияли на результаты анализа. Дубликаты могли появится из-за того что один и тотже клиент банка мог брать кредиты несколько раз или потому что датасет был сформирован из нескольких различных источников."
   ]
  },
  {
   "cell_type": "markdown",
   "metadata": {},
   "source": [
    "### Лемматизация"
   ]
  },
  {
   "cell_type": "code",
   "execution_count": 880,
   "metadata": {},
   "outputs": [
    {
     "data": {
      "text/plain": [
       "свадьба                                   793\n",
       "на проведение свадьбы                     773\n",
       "сыграть свадьбу                           769\n",
       "операции с недвижимостью                  675\n",
       "покупка коммерческой недвижимости         662\n",
       "операции с жильем                         652\n",
       "покупка жилья для сдачи                   652\n",
       "операции с коммерческой недвижимостью     650\n",
       "покупка жилья                             646\n",
       "жилье                                     646\n",
       "покупка жилья для семьи                   638\n",
       "строительство собственной недвижимости    635\n",
       "недвижимость                              633\n",
       "операции со своей недвижимостью           627\n",
       "строительство жилой недвижимости          625\n",
       "покупка недвижимости                      621\n",
       "покупка своего жилья                      620\n",
       "строительство недвижимости                619\n",
       "ремонт жилью                              607\n",
       "покупка жилой недвижимости                606\n",
       "на покупку своего автомобиля              505\n",
       "заняться высшим образованием              496\n",
       "автомобиль                                494\n",
       "сделка с подержанным автомобилем          486\n",
       "свой автомобиль                           479\n",
       "автомобили                                478\n",
       "на покупку подержанного автомобиля        478\n",
       "на покупку автомобиля                     472\n",
       "приобретение автомобиля                   461\n",
       "дополнительное образование                460\n",
       "сделка с автомобилем                      455\n",
       "высшее образование                        452\n",
       "получение дополнительного образования     447\n",
       "образование                               447\n",
       "получение образования                     442\n",
       "профильное образование                    436\n",
       "получение высшего образования             426\n",
       "заняться образованием                     408\n",
       "Name: purpose, dtype: int64"
      ]
     },
     "execution_count": 880,
     "metadata": {},
     "output_type": "execute_result"
    }
   ],
   "source": [
    "#еще раз посмотрим какие есть значения в 'purpose' и их кол-во\n",
    "data['purpose'].value_counts()"
   ]
  },
  {
   "cell_type": "code",
   "execution_count": 881,
   "metadata": {},
   "outputs": [
    {
     "data": {
      "text/plain": [
       "[('недвижимость', 6353),\n",
       " ('покупка', 5900),\n",
       " ('жилье', 4461),\n",
       " ('автомобиль', 4308),\n",
       " ('образование', 4014),\n",
       " ('операция', 2604),\n",
       " ('свадьба', 2335),\n",
       " ('свой', 2231),\n",
       " ('строительство', 1879),\n",
       " ('высокий', 1374),\n",
       " ('получение', 1315),\n",
       " ('коммерческий', 1312),\n",
       " ('жилой', 1231),\n",
       " ('сделка', 941),\n",
       " ('дополнительный', 907),\n",
       " ('заниматься', 904),\n",
       " ('проведение', 773),\n",
       " ('сыграть', 769),\n",
       " ('сдача', 652),\n",
       " ('семья', 638),\n",
       " ('собственный', 635),\n",
       " ('ремонт', 607),\n",
       " ('подержанный', 486),\n",
       " ('подержать', 478),\n",
       " ('приобретение', 461),\n",
       " ('профильный', 436)]"
      ]
     },
     "execution_count": 881,
     "metadata": {},
     "output_type": "execute_result"
    }
   ],
   "source": [
    "from pymystem3 import Mystem\n",
    "from collections import Counter\n",
    "m = Mystem()\n",
    "\n",
    "#лемматизируем полученный выше список\n",
    "purposes = []\n",
    "for element in data['purpose']:\n",
    "    lemma = m.lemmatize(element)\n",
    "    purposes.extend(lemma)\n",
    "\n",
    "#фильтруем лишнее, сортируем и получаем список уникальных лемм и их кол-во\n",
    "purposes = filter(lambda f: f not in [' ', '\\n', 'с', 'со', 'на', 'для'], purposes)\n",
    "unique_lemmas = sorted(Counter(purposes).items(), key = lambda pair: pair[1], reverse=True)        \n",
    "unique_lemmas"
   ]
  },
  {
   "cell_type": "code",
   "execution_count": 882,
   "metadata": {},
   "outputs": [],
   "source": [
    "#Для лемматизации определяем категории, который можно увидеть просмотрев значения в unique_lemmas\n",
    "purpose_category = [\n",
    "    'недвижимость',\n",
    "    'жилье',\n",
    "    'автомобиль',\n",
    "    'образование',\n",
    "    'свадьба'\n",
    "]"
   ]
  },
  {
   "cell_type": "code",
   "execution_count": 883,
   "metadata": {},
   "outputs": [],
   "source": [
    "#используем функцию, которую будем вызывать при добавлении нового стобца\n",
    "def lemmatize_purpose(row):\n",
    "    lemmas = m.lemmatize(row)\n",
    "    for lemma in lemmas:\n",
    "        for category in purpose_category:\n",
    "            if category in lemma:\n",
    "                return category\n",
    "\n",
    "#заисываем в новый столбец лемматизированные данные по целям получения кредита\n",
    "data['purpose_type'] = data['purpose'].apply(lemmatize_purpose)"
   ]
  },
  {
   "cell_type": "markdown",
   "metadata": {},
   "source": [
    "### Вывод"
   ]
  },
  {
   "cell_type": "markdown",
   "metadata": {},
   "source": [
    "Провели лемматизацию 'purpose', убрав лишнее и отсортировав.Получили список уникальных лемм с количеством, проанализировали и выделил 5 категории целей получения кредита, которые мы записали в отдельный столбец для дальнейшего анализа."
   ]
  },
  {
   "cell_type": "markdown",
   "metadata": {},
   "source": [
    "### Категоризация данных"
   ]
  },
  {
   "cell_type": "code",
   "execution_count": 884,
   "metadata": {},
   "outputs": [],
   "source": [
    "#используя функцию, категоризируем данные по количеству детей\n",
    "def children_type(children):\n",
    "    if children < 1:\n",
    "        return 'без детей'\n",
    "    elif children <3:\n",
    "        return 'есть дети'\n",
    "    else:\n",
    "        return 'многодетный'\n",
    "\n",
    "#новые категории записываем в отдельный столбец для использования в дальнейшем анализе\n",
    "data['children_type'] = data['children'].apply(children_type)"
   ]
  },
  {
   "cell_type": "code",
   "execution_count": 885,
   "metadata": {},
   "outputs": [
    {
     "data": {
      "text/plain": [
       "count    2.147100e+04\n",
       "mean     1.652954e+05\n",
       "std      9.815346e+04\n",
       "min      2.066700e+04\n",
       "25%      1.076545e+05\n",
       "50%      1.425940e+05\n",
       "75%      1.957675e+05\n",
       "max      2.265604e+06\n",
       "Name: total_income, dtype: float64"
      ]
     },
     "execution_count": 885,
     "metadata": {},
     "output_type": "execute_result"
    }
   ],
   "source": [
    "#используем метод describe для просмотра некоторых основных статистических данных, чтобы определить как разбивать на части 'total_income' для категоризации \n",
    "data['total_income'].describe() "
   ]
  },
  {
   "cell_type": "code",
   "execution_count": 886,
   "metadata": {},
   "outputs": [],
   "source": [
    "#используя функцию, категоризируем данные по доходу, используя полученную информацию методом describe выше\n",
    "def total_income_type(income):\n",
    "    if income < 107654:\n",
    "        return 'низкий доход'\n",
    "    elif income <142594:\n",
    "        return 'средний доход'\n",
    "    elif income <195767:\n",
    "        return 'доход выше среднего'\n",
    "    else:\n",
    "        return 'высокий доход'\n",
    "\n",
    "#новые категории записываем в отдельный столбец для использования в дальнейшем анализе\n",
    "data['total_income_type'] = data['total_income'].apply(total_income_type)"
   ]
  },
  {
   "cell_type": "code",
   "execution_count": 887,
   "metadata": {},
   "outputs": [],
   "source": [
    "#используя функцию, категоризируем данные по доходу, оценочные цифры брал из https://www.rbc.ru/economics/20/07/2019/5d317d739a7947d7fa1672a3\n",
    "def type_family_status(status):\n",
    "    if (status == 'женат / замужем') or (status == 'гражданский брак'):\n",
    "        return 'есть семья'\n",
    "    else:\n",
    "        return 'без семьи'\n",
    "\n",
    "#новые категории записываем в отдельный столбец для использования в дальнейшем анализе\n",
    "data['type_family_status'] = data['family_status'].apply(type_family_status)"
   ]
  },
  {
   "cell_type": "code",
   "execution_count": 888,
   "metadata": {},
   "outputs": [
    {
     "name": "stdout",
     "output_type": "stream",
     "text": [
      "<class 'pandas.core.frame.DataFrame'>\n",
      "Int64Index: 21471 entries, 0 to 21524\n",
      "Data columns (total 16 columns):\n",
      "children              21471 non-null int64\n",
      "days_employed         19351 non-null float64\n",
      "dob_years             21471 non-null int64\n",
      "education             21471 non-null object\n",
      "education_id          21471 non-null int64\n",
      "family_status         21471 non-null object\n",
      "family_status_id      21471 non-null int64\n",
      "gender                21471 non-null object\n",
      "income_type           21471 non-null object\n",
      "debt                  21471 non-null int64\n",
      "total_income          21471 non-null int64\n",
      "purpose               21471 non-null object\n",
      "purpose_type          21471 non-null object\n",
      "children_type         21471 non-null object\n",
      "total_income_type     21471 non-null object\n",
      "type_family_status    21471 non-null object\n",
      "dtypes: float64(1), int64(6), object(9)\n",
      "memory usage: 2.8+ MB\n"
     ]
    }
   ],
   "source": [
    "#проверяем датасет с добавленными столбцами\n",
    "data.info()"
   ]
  },
  {
   "cell_type": "markdown",
   "metadata": {},
   "source": [
    "### Вывод"
   ]
  },
  {
   "cell_type": "markdown",
   "metadata": {},
   "source": [
    "Для анализа и ответа на вопросы нам необходимо было разбить датасет на определенные сегменты, поэтому мы прибегли к категоризации."
   ]
  },
  {
   "cell_type": "markdown",
   "metadata": {},
   "source": [
    "### Шаг 3. Ответьте на вопросы"
   ]
  },
  {
   "cell_type": "markdown",
   "metadata": {},
   "source": [
    "- Есть ли зависимость между наличием детей и возвратом кредита в срок?"
   ]
  },
  {
   "cell_type": "code",
   "execution_count": 889,
   "metadata": {},
   "outputs": [
    {
     "data": {
      "text/html": [
       "<div>\n",
       "<style scoped>\n",
       "    .dataframe tbody tr th:only-of-type {\n",
       "        vertical-align: middle;\n",
       "    }\n",
       "\n",
       "    .dataframe tbody tr th {\n",
       "        vertical-align: top;\n",
       "    }\n",
       "\n",
       "    .dataframe thead th {\n",
       "        text-align: right;\n",
       "    }\n",
       "</style>\n",
       "<table border=\"1\" class=\"dataframe\">\n",
       "  <thead>\n",
       "    <tr style=\"text-align: right;\">\n",
       "      <th>debt</th>\n",
       "      <th>0</th>\n",
       "      <th>1</th>\n",
       "      <th>% должников</th>\n",
       "    </tr>\n",
       "    <tr>\n",
       "      <th>children_type</th>\n",
       "      <th></th>\n",
       "      <th></th>\n",
       "      <th></th>\n",
       "    </tr>\n",
       "  </thead>\n",
       "  <tbody>\n",
       "    <tr>\n",
       "      <td>без детей</td>\n",
       "      <td>13090</td>\n",
       "      <td>1064</td>\n",
       "      <td>7.517310</td>\n",
       "    </tr>\n",
       "    <tr>\n",
       "      <td>есть дети</td>\n",
       "      <td>6291</td>\n",
       "      <td>646</td>\n",
       "      <td>9.312383</td>\n",
       "    </tr>\n",
       "    <tr>\n",
       "      <td>многодетный</td>\n",
       "      <td>349</td>\n",
       "      <td>31</td>\n",
       "      <td>8.157895</td>\n",
       "    </tr>\n",
       "  </tbody>\n",
       "</table>\n",
       "</div>"
      ],
      "text/plain": [
       "debt               0     1  % должников\n",
       "children_type                          \n",
       "без детей      13090  1064     7.517310\n",
       "есть дети       6291   646     9.312383\n",
       "многодетный      349    31     8.157895"
      ]
     },
     "execution_count": 889,
     "metadata": {},
     "output_type": "execute_result"
    }
   ],
   "source": [
    "data_children = data.pivot_table(index=['children_type'], columns = 'debt', values = 'children', aggfunc = 'count')\n",
    "data_children['% должников'] = (data_children[1]/(data_children[1]+data_children[0]))*100\n",
    "data_children"
   ]
  },
  {
   "cell_type": "markdown",
   "metadata": {},
   "source": [
    "### Вывод"
   ]
  },
  {
   "cell_type": "markdown",
   "metadata": {},
   "source": [
    "Те, у кого нету детей, чаще возвращают кредиты на 1,8%, чем те у кого есть дети. При этом многодетные возвращают кредиты чаще, чем семьи с кол-вом детей меньше 3 более чем на 1,1%."
   ]
  },
  {
   "cell_type": "markdown",
   "metadata": {},
   "source": [
    "- Есть ли зависимость между семейным положением и возвратом кредита в срок?"
   ]
  },
  {
   "cell_type": "code",
   "execution_count": 890,
   "metadata": {},
   "outputs": [
    {
     "data": {
      "text/html": [
       "<div>\n",
       "<style scoped>\n",
       "    .dataframe tbody tr th:only-of-type {\n",
       "        vertical-align: middle;\n",
       "    }\n",
       "\n",
       "    .dataframe tbody tr th {\n",
       "        vertical-align: top;\n",
       "    }\n",
       "\n",
       "    .dataframe thead th {\n",
       "        text-align: right;\n",
       "    }\n",
       "</style>\n",
       "<table border=\"1\" class=\"dataframe\">\n",
       "  <thead>\n",
       "    <tr style=\"text-align: right;\">\n",
       "      <th>debt</th>\n",
       "      <th>0</th>\n",
       "      <th>1</th>\n",
       "      <th>%</th>\n",
       "    </tr>\n",
       "    <tr>\n",
       "      <th>type_family_status</th>\n",
       "      <th></th>\n",
       "      <th></th>\n",
       "      <th></th>\n",
       "    </tr>\n",
       "  </thead>\n",
       "  <tbody>\n",
       "    <tr>\n",
       "      <td>без семьи</td>\n",
       "      <td>4542</td>\n",
       "      <td>422</td>\n",
       "      <td>8.501209</td>\n",
       "    </tr>\n",
       "    <tr>\n",
       "      <td>есть семья</td>\n",
       "      <td>15188</td>\n",
       "      <td>1319</td>\n",
       "      <td>7.990549</td>\n",
       "    </tr>\n",
       "  </tbody>\n",
       "</table>\n",
       "</div>"
      ],
      "text/plain": [
       "debt                    0     1         %\n",
       "type_family_status                       \n",
       "без семьи            4542   422  8.501209\n",
       "есть семья          15188  1319  7.990549"
      ]
     },
     "execution_count": 890,
     "metadata": {},
     "output_type": "execute_result"
    }
   ],
   "source": [
    "data_family = data.pivot_table(index=['type_family_status'], columns = 'debt', values = 'family_status', aggfunc = 'count')\n",
    "data_family['%'] = (data_family[1]/(data_family[1]+data_family[0]))*100\n",
    "data_family"
   ]
  },
  {
   "cell_type": "markdown",
   "metadata": {},
   "source": [
    "### Вывод"
   ]
  },
  {
   "cell_type": "markdown",
   "metadata": {},
   "source": [
    "Клиенты, у которых нету семьи на 0,5% чаще имеют просрочку по кредиту."
   ]
  },
  {
   "cell_type": "markdown",
   "metadata": {},
   "source": [
    "- Есть ли зависимость между уровнем дохода и возвратом кредита в срок?"
   ]
  },
  {
   "cell_type": "code",
   "execution_count": 891,
   "metadata": {},
   "outputs": [
    {
     "data": {
      "text/html": [
       "<div>\n",
       "<style scoped>\n",
       "    .dataframe tbody tr th:only-of-type {\n",
       "        vertical-align: middle;\n",
       "    }\n",
       "\n",
       "    .dataframe tbody tr th {\n",
       "        vertical-align: top;\n",
       "    }\n",
       "\n",
       "    .dataframe thead th {\n",
       "        text-align: right;\n",
       "    }\n",
       "</style>\n",
       "<table border=\"1\" class=\"dataframe\">\n",
       "  <thead>\n",
       "    <tr style=\"text-align: right;\">\n",
       "      <th>debt</th>\n",
       "      <th>0</th>\n",
       "      <th>1</th>\n",
       "      <th>%</th>\n",
       "    </tr>\n",
       "    <tr>\n",
       "      <th>total_income_type</th>\n",
       "      <th></th>\n",
       "      <th></th>\n",
       "      <th></th>\n",
       "    </tr>\n",
       "  </thead>\n",
       "  <tbody>\n",
       "    <tr>\n",
       "      <td>высокий доход</td>\n",
       "      <td>4985</td>\n",
       "      <td>383</td>\n",
       "      <td>7.134873</td>\n",
       "    </tr>\n",
       "    <tr>\n",
       "      <td>доход выше среднего</td>\n",
       "      <td>5776</td>\n",
       "      <td>546</td>\n",
       "      <td>8.636507</td>\n",
       "    </tr>\n",
       "    <tr>\n",
       "      <td>низкий доход</td>\n",
       "      <td>4941</td>\n",
       "      <td>427</td>\n",
       "      <td>7.954545</td>\n",
       "    </tr>\n",
       "    <tr>\n",
       "      <td>средний доход</td>\n",
       "      <td>4028</td>\n",
       "      <td>385</td>\n",
       "      <td>8.724224</td>\n",
       "    </tr>\n",
       "  </tbody>\n",
       "</table>\n",
       "</div>"
      ],
      "text/plain": [
       "debt                    0    1         %\n",
       "total_income_type                       \n",
       "высокий доход        4985  383  7.134873\n",
       "доход выше среднего  5776  546  8.636507\n",
       "низкий доход         4941  427  7.954545\n",
       "средний доход        4028  385  8.724224"
      ]
     },
     "execution_count": 891,
     "metadata": {},
     "output_type": "execute_result"
    }
   ],
   "source": [
    "data_income = data.pivot_table(index=['total_income_type'], columns = 'debt', values = 'total_income', aggfunc = 'count' )\n",
    "data_income['%'] = (data_income[1]/(data_income[1]+data_income[0]))*100\n",
    "data_income"
   ]
  },
  {
   "cell_type": "markdown",
   "metadata": {},
   "source": [
    "### Вывод"
   ]
  },
  {
   "cell_type": "markdown",
   "metadata": {},
   "source": [
    "Люди с высоким доходом чаще всего возвращают кредит более чем на 1,5%, в отличие от тех, у кого средний доход и доход выше среднего. При этом люди с низким доходом тоже возвращают кредиты чаще на 0,6% чем те, у кого средний доход и доход выше среднего."
   ]
  },
  {
   "cell_type": "markdown",
   "metadata": {},
   "source": [
    "- Как разные цели кредита влияют на его возврат в срок?"
   ]
  },
  {
   "cell_type": "code",
   "execution_count": 892,
   "metadata": {},
   "outputs": [
    {
     "data": {
      "text/html": [
       "<div>\n",
       "<style scoped>\n",
       "    .dataframe tbody tr th:only-of-type {\n",
       "        vertical-align: middle;\n",
       "    }\n",
       "\n",
       "    .dataframe tbody tr th {\n",
       "        vertical-align: top;\n",
       "    }\n",
       "\n",
       "    .dataframe thead th {\n",
       "        text-align: right;\n",
       "    }\n",
       "</style>\n",
       "<table border=\"1\" class=\"dataframe\">\n",
       "  <thead>\n",
       "    <tr style=\"text-align: right;\">\n",
       "      <th>debt</th>\n",
       "      <th>0</th>\n",
       "      <th>1</th>\n",
       "      <th>%</th>\n",
       "    </tr>\n",
       "    <tr>\n",
       "      <th>purpose_type</th>\n",
       "      <th></th>\n",
       "      <th></th>\n",
       "      <th></th>\n",
       "    </tr>\n",
       "  </thead>\n",
       "  <tbody>\n",
       "    <tr>\n",
       "      <td>автомобиль</td>\n",
       "      <td>3905</td>\n",
       "      <td>403</td>\n",
       "      <td>9.354689</td>\n",
       "    </tr>\n",
       "    <tr>\n",
       "      <td>жилье</td>\n",
       "      <td>4153</td>\n",
       "      <td>308</td>\n",
       "      <td>6.904282</td>\n",
       "    </tr>\n",
       "    <tr>\n",
       "      <td>недвижимость</td>\n",
       "      <td>5879</td>\n",
       "      <td>474</td>\n",
       "      <td>7.461042</td>\n",
       "    </tr>\n",
       "    <tr>\n",
       "      <td>образование</td>\n",
       "      <td>3644</td>\n",
       "      <td>370</td>\n",
       "      <td>9.217738</td>\n",
       "    </tr>\n",
       "    <tr>\n",
       "      <td>свадьба</td>\n",
       "      <td>2149</td>\n",
       "      <td>186</td>\n",
       "      <td>7.965739</td>\n",
       "    </tr>\n",
       "  </tbody>\n",
       "</table>\n",
       "</div>"
      ],
      "text/plain": [
       "debt             0    1         %\n",
       "purpose_type                     \n",
       "автомобиль    3905  403  9.354689\n",
       "жилье         4153  308  6.904282\n",
       "недвижимость  5879  474  7.461042\n",
       "образование   3644  370  9.217738\n",
       "свадьба       2149  186  7.965739"
      ]
     },
     "execution_count": 892,
     "metadata": {},
     "output_type": "execute_result"
    }
   ],
   "source": [
    "data_purpose = data.pivot_table(index=['purpose_type'], columns='debt', values='purpose', aggfunc='count')\n",
    "data_purpose['%'] = (data_purpose[1]/(data_purpose[1]+data_purpose[0]))*100\n",
    "data_purpose"
   ]
  },
  {
   "cell_type": "markdown",
   "metadata": {},
   "source": [
    "### Вывод"
   ]
  },
  {
   "cell_type": "markdown",
   "metadata": {},
   "source": [
    "Кредиты на жилье и недвижимость наиболее востребованы среди клиентов, однако и процент невозврата у них самый маленький. А клиенты, которые брали кредиты на автомобиль и образование, в большинстве и имели задолженность по возврату денег более чем на 2,3% от тех кто брал кредит на жилье и более чем на 1,7% от тех кто брал кредит на недвижимость."
   ]
  },
  {
   "cell_type": "markdown",
   "metadata": {},
   "source": [
    "### Шаг 4. Общий вывод"
   ]
  },
  {
   "cell_type": "markdown",
   "metadata": {},
   "source": [
    "Семеное положение и количество детей влияет на факт погашения кредита в срок.\n",
    "Безопаснее всего выдавать кредиты на жилье, недвижимость и свадьбу, клиентам у которых нету детей, но у которых есть семья (женат / замужем' или 'гражданский брак') и имеющим высокий доход (от 195767) или низкий доход (до 107654)"
   ]
  },
  {
   "cell_type": "markdown",
   "metadata": {},
   "source": [
    "---"
   ]
  }
 ],
 "metadata": {
  "kernelspec": {
   "display_name": "Python 3",
   "language": "python",
   "name": "python3"
  },
  "language_info": {
   "codemirror_mode": {
    "name": "ipython",
    "version": 3
   },
   "file_extension": ".py",
   "mimetype": "text/x-python",
   "name": "python",
   "nbconvert_exporter": "python",
   "pygments_lexer": "ipython3",
   "version": "3.7.6"
  }
 },
 "nbformat": 4,
 "nbformat_minor": 2
}

